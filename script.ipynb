{
 "cells": [
  {
   "cell_type": "markdown",
   "metadata": {},
   "source": [
    "# Preprocessing tool for TGSIM dataset"
   ]
  },
  {
   "cell_type": "markdown",
   "metadata": {},
   "source": [
    "The TGSIM dataset is provide with one file per exepriment that contains several runs.<br>\n",
    "This notebook is to be used to transform the raw TGSIM files into a comprehensive dataset where one file esuals one run.<br>\n",
    "In addition, the scripts allow for the transformation of X-Y reference images coordinates to polar coordinates following the work of [Buisson,2016]. In addition, the code detects at each frame the leader of each vehicles and, if meaningfull, computes the distance and time headways and the speeddeltas between leader and follower.<br>"
   ]
  },
  {
   "cell_type": "markdown",
   "metadata": {},
   "source": [
    "#### Reference\n",
    "[Buisson,2016] Christine Buisson, Daniel Villegas, Lucas Rivoirard, *Using Polar Coordinates to Filter Trajectories Data without Adding Extra Physical Constraints*, 2016, Transportation Research Board 95th Annual Meeting, Washington, DC United States, Volume: 16-3412"
   ]
  },
  {
   "cell_type": "code",
   "execution_count": null,
   "metadata": {},
   "outputs": [],
   "source": [
    "#the only cell of this notebook, it allows for the preprocessing of the data. From this \n",
    "import src.slice_per_recording as slice\n",
    "\n",
    "df_path = input('enter TGSIM datasheet path')\n",
    "path_out= input('enter individual runs savepath')\n",
    "\n",
    "slice.clean_data(df_path, path_out)"
   ]
  }
 ],
 "metadata": {
  "language_info": {
   "name": "python"
  }
 },
 "nbformat": 4,
 "nbformat_minor": 2
}
